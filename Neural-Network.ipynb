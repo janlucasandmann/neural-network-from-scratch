{
 "cells": [
  {
   "cell_type": "code",
   "execution_count": 12,
   "id": "e75422ab",
   "metadata": {},
   "outputs": [],
   "source": [
    "import math\n",
    "import numpy as np\n",
    "import matplotlib.pyplot as plt\n",
    "%matplotlib inline\n",
    "import random"
   ]
  },
  {
   "cell_type": "code",
   "execution_count": 117,
   "id": "ad491351",
   "metadata": {},
   "outputs": [],
   "source": [
    "class Parameter:\n",
    "    \n",
    "    def __init__(self, value, children=[], op=''):\n",
    "        self.value = value\n",
    "        self.gradient = 0\n",
    "        self.children = children\n",
    "        self.op = op\n",
    "        self._backprop = lambda: None\n",
    "        \n",
    "    def __add__(self, other):\n",
    "        other = other if isinstance(other, Parameter) else Parameter(other)\n",
    "        result = Parameter(self.value + other.value, [self, other], '+')\n",
    "        \n",
    "        def _backprop():\n",
    "            self.gradient += result.gradient\n",
    "            other.gradient += result.gradient\n",
    "            \n",
    "        result._backprop = _backprop\n",
    "        \n",
    "        return result\n",
    "    \n",
    "    def __radd__(self, other):\n",
    "        return self + other\n",
    "    \n",
    "    def __mul__(self, other):\n",
    "        other = other if isinstance(other, Parameter) else Parameter(other)\n",
    "        result = Parameter(self.value * other.value, [self, other], '*')\n",
    "        \n",
    "        def _backprop():\n",
    "            self.gradient += other.value * result.gradient\n",
    "            other.gradient += self.value * result.gradient\n",
    "            \n",
    "        result._backprop = _backprop\n",
    "        \n",
    "        return result\n",
    "    \n",
    "    def __sub__(self, other):\n",
    "        return self + (other * (-1))\n",
    "    \n",
    "    def relu(self):\n",
    "        result = Parameter(0 if self.value < 0 else self.value, [self], 'ReLU')\n",
    "        \n",
    "        def _backprop():\n",
    "            self.gradient += (result.value > 0) * result.gradient\n",
    "        result._backprop = _backprop\n",
    "            \n",
    "        return result\n",
    "    \n",
    "    def backpropagation(self):\n",
    "        \n",
    "        allparams = []\n",
    "        visited = []\n",
    "        \n",
    "        def build_params(p):\n",
    "            if p not in visited:\n",
    "                visited.append(p)\n",
    "                for child in p.children:\n",
    "                    build_params(child)\n",
    "                allparams.append(p)\n",
    "        build_params(self)\n",
    "        \n",
    "        self.gradient = 1\n",
    "        for p in reversed(allparams):\n",
    "            p._backprop()\n",
    "        \n",
    "            \n",
    "    "
   ]
  },
  {
   "cell_type": "code",
   "execution_count": 164,
   "id": "795bdd7f",
   "metadata": {},
   "outputs": [],
   "source": [
    "class Neuron:\n",
    "    \n",
    "    def __init__(self, nin):\n",
    "        self.w = [Parameter(random.uniform(-1,1)) for _ in range(nin)]\n",
    "        self.b = Parameter(0)\n",
    "        \n",
    "    def __call__(self, x):\n",
    "        act = sum((wi*xi for wi,xi in zip(self.w, x)), self.b)\n",
    "        return act.relu()\n",
    "    \n",
    "    def parameters(self):\n",
    "        return self.w + [self.b]\n",
    "    \n",
    "class Layer:\n",
    "    \n",
    "    def __init__(self, nin, nout):\n",
    "        self.neurons = [Neuron(nin) for _ in range(nout)]\n",
    "        \n",
    "    def __call__(self, x):\n",
    "        out = [n(x) for n in self.neurons]\n",
    "        return out[0] if len(out) == 1 else out\n",
    "    \n",
    "    def parameters(self):\n",
    "        return [p for n in self.neurons for p in n.parameters()]\n",
    "    \n",
    "class NeuralNetwork:\n",
    "    \n",
    "    def __init__(self, nin, nouts):\n",
    "        size = [nin] + nouts\n",
    "        self.layers = [Layer(size[i], size[i+1]) for i in range(len(nouts))]\n",
    "        self.training_progress = []\n",
    "        \n",
    "    def __call__(self, x):\n",
    "        for layer in self.layers:\n",
    "            x = layer(x)\n",
    "        return x\n",
    "    \n",
    "    def parameters(self):\n",
    "        return [p for layer in self.layers for p in layer.parameters()]\n",
    "    \n",
    "    def train(self, xs, ys, iterations, learning_rate):\n",
    "        training_progress = []\n",
    "        \n",
    "        for i in range(iterations):\n",
    "            pred = [self(x) for x in xs]\n",
    "            loss = sum([((pr-y) * (pr-y)) for pr, y in zip(pred,ys)])\n",
    "            training_progress.append(loss.value)\n",
    "            \n",
    "            for p in self.parameters():\n",
    "                p.gradient = 0\n",
    "                \n",
    "            loss.backpropagation()\n",
    "            \n",
    "            for p in self.parameters():\n",
    "                p.value += learning_rate * (-1) * p.gradient\n",
    "                \n",
    "            self.training_progress = training_progress"
   ]
  },
  {
   "cell_type": "code",
   "execution_count": 246,
   "id": "dbd7aab8",
   "metadata": {},
   "outputs": [],
   "source": [
    "# test with f(x) = 2x\n",
    "xs = [[0.1], [0.2], [0.3], [0.4]]\n",
    "ys = [0.2,0.4,0.6,0.8]\n",
    "\n",
    "nn = NeuralNetwork(1, [4,4,1])\n",
    "nn.train(xs,ys,100,0.01)"
   ]
  },
  {
   "cell_type": "code",
   "execution_count": 247,
   "id": "2d1fc2d1",
   "metadata": {},
   "outputs": [
    {
     "data": {
      "text/plain": [
       "[<matplotlib.lines.Line2D at 0x11cb43ac0>]"
      ]
     },
     "execution_count": 247,
     "metadata": {},
     "output_type": "execute_result"
    },
    {
     "data": {
      "image/png": "[encoded data removed]",
      "text/plain": [
       "<Figure size 432x288 with 1 Axes>"
      ]
     },
     "metadata": {
      "needs_background": "light"
     },
     "output_type": "display_data"
    }
   ],
   "source": [
    "plt.plot(nn.training_progress)"
   ]
  },
  {
   "cell_type": "code",
   "execution_count": 252,
   "id": "4e860964",
   "metadata": {},
   "outputs": [
    {
     "data": {
      "text/plain": [
       "0.4667249082626712"
      ]
     },
     "execution_count": 252,
     "metadata": {},
     "output_type": "execute_result"
    }
   ],
   "source": [
    "nn([0.2]).value"
   ]
  },
  {
   "cell_type": "code",
   "execution_count": null,
   "id": "5f61e05b",
   "metadata": {},
   "outputs": [],
   "source": []
  }
 ],
 "metadata": {
  "kernelspec": {
   "display_name": "Python 3 (ipykernel)",
   "language": "python",
   "name": "python3"
  },
  "language_info": {
   "codemirror_mode": {
    "name": "ipython",
    "version": 3
   },
   "file_extension": ".py",
   "mimetype": "text/x-python",
   "name": "python",
   "nbconvert_exporter": "python",
   "pygments_lexer": "ipython3",
   "version": "3.8.13"
  }
 },
 "nbformat": 4,
 "nbformat_minor": 5
}
